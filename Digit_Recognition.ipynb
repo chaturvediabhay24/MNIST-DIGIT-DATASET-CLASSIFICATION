{
  "nbformat": 4,
  "nbformat_minor": 0,
  "metadata": {
    "colab": {
      "name": "Digit Recognition.ipynb",
      "version": "0.3.2",
      "provenance": [],
      "collapsed_sections": []
    },
    "kernelspec": {
      "name": "python3",
      "display_name": "Python 3"
    },
    "accelerator": "GPU"
  },
  "cells": [
    {
      "cell_type": "code",
      "metadata": {
        "id": "kEQIjcGX0u0Z",
        "colab_type": "code",
        "colab": {}
      },
      "source": [
        "import tensorflow as tf\n",
        "import keras\n",
        "from keras.models import Sequential\n",
        "from keras.layers import Convolution2D\n",
        "from keras.layers import Activation\n",
        "from tensorflow.python.framework import ops\n",
        "ops.reset_default_graph()\n",
        "from keras.layers import MaxPooling2D\n",
        "from keras.layers import Flatten\n",
        "from keras.layers import Dense\n",
        "from sklearn import datasets\n",
        "import tensorflow_hub as hub\n",
        "from keras.layers import Dropout\n",
        "import pandas as pd\n",
        "from tensorflow.keras import layers\n",
        "from keras.layers import BatchNormalization\n",
        "import numpy as np\n",
        "import matplotlib.pyplot as plt\n",
        "import math\n",
        "from keras_preprocessing.image import ImageDataGenerator\n"
      ],
      "execution_count": 0,
      "outputs": []
    },
    {
      "cell_type": "code",
      "metadata": {
        "id": "j5VdEB76h0Wb",
        "colab_type": "code",
        "colab": {}
      },
      "source": [
        "from keras.datasets.mnist import load_data\n",
        "(train_digits, train_labels), (test_digits, test_labels) = load_data()"
      ],
      "execution_count": 0,
      "outputs": []
    },
    {
      "cell_type": "code",
      "metadata": {
        "id": "j1INmkXTh1Fr",
        "colab_type": "code",
        "outputId": "2cd5e17c-0315-414c-bbd8-fdda292228d8",
        "colab": {
          "base_uri": "https://localhost:8080/",
          "height": 36
        }
      },
      "source": [
        "train_digits.shape,train_labels.shape"
      ],
      "execution_count": 0,
      "outputs": [
        {
          "output_type": "execute_result",
          "data": {
            "text/plain": [
              "((60000, 28, 28), (60000,))"
            ]
          },
          "metadata": {
            "tags": []
          },
          "execution_count": 27
        }
      ]
    },
    {
      "cell_type": "code",
      "metadata": {
        "id": "lMPnQXqSkGwY",
        "colab_type": "code",
        "colab": {}
      },
      "source": [
        "\n",
        "train_digits = train_digits.astype('float32')\n",
        "test_digits = test_digits.astype('float32')\n",
        "train_digits /= 255\n",
        "test_digits /= 255\n"
      ],
      "execution_count": 0,
      "outputs": []
    },
    {
      "cell_type": "code",
      "metadata": {
        "id": "ke0RaVjkklgx",
        "colab_type": "code",
        "colab": {}
      },
      "source": [
        "num_classes=10"
      ],
      "execution_count": 0,
      "outputs": []
    },
    {
      "cell_type": "code",
      "metadata": {
        "id": "NkAF_Y5KkPC5",
        "colab_type": "code",
        "colab": {}
      },
      "source": [
        "\n",
        "train_labels = keras.utils.to_categorical(train_labels)\n",
        "test_labels = keras.utils.to_categorical(test_labels)\n"
      ],
      "execution_count": 0,
      "outputs": []
    },
    {
      "cell_type": "code",
      "metadata": {
        "id": "_Vlh7NAUpUJ0",
        "colab_type": "code",
        "outputId": "6a1eefe4-d1f3-4c97-edcd-10700137cd49",
        "colab": {
          "base_uri": "https://localhost:8080/",
          "height": 36
        }
      },
      "source": [
        "train_digits.shape,train_labels.shape"
      ],
      "execution_count": 0,
      "outputs": [
        {
          "output_type": "execute_result",
          "data": {
            "text/plain": [
              "((60000, 28, 28), (60000, 10))"
            ]
          },
          "metadata": {
            "tags": []
          },
          "execution_count": 31
        }
      ]
    },
    {
      "cell_type": "code",
      "metadata": {
        "id": "MUreZByqjL5V",
        "colab_type": "code",
        "colab": {}
      },
      "source": [
        "train_digits=train_digits.reshape(-1,28,28,1)\n",
        "test_digits=test_digits.reshape(-1,28,28,1)"
      ],
      "execution_count": 0,
      "outputs": []
    },
    {
      "cell_type": "code",
      "metadata": {
        "id": "bGYyFeHch_TA",
        "colab_type": "code",
        "colab": {}
      },
      "source": [
        "model = Sequential()\n",
        "model.add(Conv2D(filters=32, kernel_size=(3,3), activation='relu', padding='same',input_shape=(28,28,1)))\n",
        "model.add(MaxPooling2D(pool_size=(2,2)))\n",
        "model.add(Conv2D(filters=64, kernel_size=(3,3), activation='relu', padding='same'))\n",
        "model.add(MaxPooling2D(pool_size=(2,2)))\n",
        "model.add(Conv2D(filters=64, kernel_size=(3,3), activation='relu', padding='same'))\n",
        "model.add(MaxPooling2D(pool_size=(2,2)))    \n",
        "model.add(Flatten())\n",
        "model.add(Dense(128, activation='relu'))\n",
        "model.add(Dense(10, activation='softmax'))\n",
        "model.compile(optimizer='adam', loss='categorical_crossentropy', metrics=['accuracy'])"
      ],
      "execution_count": 0,
      "outputs": []
    },
    {
      "cell_type": "code",
      "metadata": {
        "id": "oZbokHrBiVYF",
        "colab_type": "code",
        "outputId": "238b4520-a650-4a37-a2bb-e62f2ed3d954",
        "colab": {
          "base_uri": "https://localhost:8080/",
          "height": 485
        }
      },
      "source": [
        "model.summary()"
      ],
      "execution_count": 0,
      "outputs": [
        {
          "output_type": "stream",
          "text": [
            "_________________________________________________________________\n",
            "Layer (type)                 Output Shape              Param #   \n",
            "=================================================================\n",
            "conv2d_4 (Conv2D)            (None, 28, 28, 32)        320       \n",
            "_________________________________________________________________\n",
            "max_pooling2d_4 (MaxPooling2 (None, 14, 14, 32)        0         \n",
            "_________________________________________________________________\n",
            "conv2d_5 (Conv2D)            (None, 14, 14, 64)        18496     \n",
            "_________________________________________________________________\n",
            "max_pooling2d_5 (MaxPooling2 (None, 7, 7, 64)          0         \n",
            "_________________________________________________________________\n",
            "conv2d_6 (Conv2D)            (None, 7, 7, 64)          36928     \n",
            "_________________________________________________________________\n",
            "max_pooling2d_6 (MaxPooling2 (None, 3, 3, 64)          0         \n",
            "_________________________________________________________________\n",
            "flatten_2 (Flatten)          (None, 576)               0         \n",
            "_________________________________________________________________\n",
            "dense_3 (Dense)              (None, 128)               73856     \n",
            "_________________________________________________________________\n",
            "dense_4 (Dense)              (None, 10)                1290      \n",
            "=================================================================\n",
            "Total params: 130,890\n",
            "Trainable params: 130,890\n",
            "Non-trainable params: 0\n",
            "_________________________________________________________________\n"
          ],
          "name": "stdout"
        }
      ]
    },
    {
      "cell_type": "code",
      "metadata": {
        "id": "s9xlnNpMRDoz",
        "colab_type": "code",
        "colab": {}
      },
      "source": [
        "\n",
        "model.compile(optimizer='adam', loss='categorical_crossentropy', metrics=['accuracy'])"
      ],
      "execution_count": 0,
      "outputs": []
    },
    {
      "cell_type": "code",
      "metadata": {
        "id": "thijshkXmf7a",
        "colab_type": "code",
        "colab": {}
      },
      "source": [
        ""
      ],
      "execution_count": 0,
      "outputs": []
    },
    {
      "cell_type": "code",
      "metadata": {
        "id": "61ioTg-_i6uO",
        "colab_type": "code",
        "outputId": "b76f7ecd-8774-4fe5-f098-783154314e33",
        "colab": {
          "base_uri": "https://localhost:8080/",
          "height": 598
        }
      },
      "source": [
        "results = model.fit(train_digits, train_labels, \n",
        "                    epochs=15, batch_size=64,validation_data=(test_digits,test_labels))"
      ],
      "execution_count": 0,
      "outputs": [
        {
          "output_type": "stream",
          "text": [
            "Train on 60000 samples, validate on 10000 samples\n",
            "Epoch 1/15\n",
            "60000/60000 [==============================] - 5s 84us/step - loss: 0.0588 - acc: 0.9815 - val_loss: 0.0455 - val_acc: 0.9853\n",
            "Epoch 2/15\n",
            "60000/60000 [==============================] - 5s 83us/step - loss: 0.0374 - acc: 0.9883 - val_loss: 0.0280 - val_acc: 0.9908\n",
            "Epoch 3/15\n",
            "60000/60000 [==============================] - 5s 82us/step - loss: 0.0268 - acc: 0.9916 - val_loss: 0.0244 - val_acc: 0.9922\n",
            "Epoch 4/15\n",
            "60000/60000 [==============================] - 5s 82us/step - loss: 0.0207 - acc: 0.9931 - val_loss: 0.0293 - val_acc: 0.9912\n",
            "Epoch 5/15\n",
            "60000/60000 [==============================] - 5s 87us/step - loss: 0.0187 - acc: 0.9939 - val_loss: 0.0348 - val_acc: 0.9895\n",
            "Epoch 6/15\n",
            "60000/60000 [==============================] - 5s 91us/step - loss: 0.0145 - acc: 0.9953 - val_loss: 0.0234 - val_acc: 0.9932\n",
            "Epoch 7/15\n",
            "60000/60000 [==============================] - 5s 85us/step - loss: 0.0127 - acc: 0.9959 - val_loss: 0.0407 - val_acc: 0.9879\n",
            "Epoch 8/15\n",
            "60000/60000 [==============================] - 5s 82us/step - loss: 0.0106 - acc: 0.9965 - val_loss: 0.0292 - val_acc: 0.9912\n",
            "Epoch 9/15\n",
            "60000/60000 [==============================] - 5s 81us/step - loss: 0.0093 - acc: 0.9970 - val_loss: 0.0320 - val_acc: 0.9914\n",
            "Epoch 10/15\n",
            "60000/60000 [==============================] - 5s 82us/step - loss: 0.0084 - acc: 0.9971 - val_loss: 0.0309 - val_acc: 0.9919\n",
            "Epoch 11/15\n",
            "60000/60000 [==============================] - 5s 81us/step - loss: 0.0070 - acc: 0.9977 - val_loss: 0.0442 - val_acc: 0.9896\n",
            "Epoch 12/15\n",
            "60000/60000 [==============================] - 5s 81us/step - loss: 0.0075 - acc: 0.9976 - val_loss: 0.0314 - val_acc: 0.9931\n",
            "Epoch 13/15\n",
            "60000/60000 [==============================] - 5s 81us/step - loss: 0.0076 - acc: 0.9975 - val_loss: 0.0253 - val_acc: 0.9933\n",
            "Epoch 14/15\n",
            "60000/60000 [==============================] - 5s 81us/step - loss: 0.0048 - acc: 0.9986 - val_loss: 0.0336 - val_acc: 0.9927\n",
            "Epoch 15/15\n",
            "60000/60000 [==============================] - 5s 82us/step - loss: 0.0065 - acc: 0.9979 - val_loss: 0.0420 - val_acc: 0.9906\n"
          ],
          "name": "stdout"
        }
      ]
    },
    {
      "cell_type": "code",
      "metadata": {
        "id": "qSDHKySyjM79",
        "colab_type": "code",
        "outputId": "13c69321-a844-4f65-cf98-712da6356149",
        "colab": {
          "base_uri": "https://localhost:8080/",
          "height": 269
        }
      },
      "source": [
        "first_image = test_digits[10]\n",
        "first_image = np.array(first_image, dtype='float')\n",
        "pixels = first_image.reshape((28, 28))\n",
        "plt.imshow(pixels, cmap='gray')\n",
        "plt.show()"
      ],
      "execution_count": 0,
      "outputs": [
        {
          "output_type": "display_data",
          "data": {
            "image/png": "[encoded data removed]",
            "text/plain": [
              "<Figure size 432x288 with 1 Axes>"
            ]
          },
          "metadata": {
            "tags": []
          }
        }
      ]
    },
    {
      "cell_type": "code",
      "metadata": {
        "id": "jd4cYq-vkQF7",
        "colab_type": "code",
        "colab": {}
      },
      "source": [
        ""
      ],
      "execution_count": 0,
      "outputs": []
    },
    {
      "cell_type": "code",
      "metadata": {
        "id": "8FLZCofak0fd",
        "colab_type": "code",
        "colab": {}
      },
      "source": [
        ""
      ],
      "execution_count": 0,
      "outputs": []
    }
  ]
}