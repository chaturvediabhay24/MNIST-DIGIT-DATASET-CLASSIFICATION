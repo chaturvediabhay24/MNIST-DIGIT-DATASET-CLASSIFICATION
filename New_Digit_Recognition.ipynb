{
  "nbformat": 4,
  "nbformat_minor": 0,
  "metadata": {
    "colab": {
      "name": "New Digit Recognition.ipynb",
      "version": "0.3.2",
      "provenance": [],
      "collapsed_sections": []
    },
    "kernelspec": {
      "name": "python3",
      "display_name": "Python 3"
    },
    "accelerator": "GPU"
  },
  "cells": [
    {
      "cell_type": "code",
      "metadata": {
        "id": "kEQIjcGX0u0Z",
        "colab_type": "code",
        "colab": {}
      },
      "source": [
        "import tensorflow as tf\n",
        "import keras\n",
        "from keras.models import Sequential\n",
        "from keras.layers import Conv2D\n",
        "from keras.layers import Activation\n",
        "from tensorflow.python.framework import ops\n",
        "ops.reset_default_graph()\n",
        "from keras.layers import MaxPooling2D\n",
        "from keras.layers import Flatten\n",
        "from keras.layers import Dense\n",
        "from sklearn import datasets\n",
        "import tensorflow_hub as hub\n",
        "from keras.layers import Dropout\n",
        "import pandas as pd\n",
        "from tensorflow.keras import layers\n",
        "from keras.layers import BatchNormalization\n",
        "import numpy as np\n",
        "import matplotlib.pyplot as plt\n",
        "import math\n",
        "from keras_preprocessing.image import ImageDataGenerator\n"
      ],
      "execution_count": 0,
      "outputs": []
    },
    {
      "cell_type": "code",
      "metadata": {
        "id": "j5VdEB76h0Wb",
        "colab_type": "code",
        "outputId": "7e8d5b62-3ce2-435d-fca9-aada62067503",
        "colab": {
          "base_uri": "https://localhost:8080/",
          "height": 54
        }
      },
      "source": [
        "from keras.datasets.mnist import load_data\n",
        "(train_digits, train_labels), (test_digits, test_labels) = load_data()"
      ],
      "execution_count": 0,
      "outputs": [
        {
          "output_type": "stream",
          "text": [
            "Downloading data from https://s3.amazonaws.com/img-datasets/mnist.npz\n",
            "11493376/11490434 [==============================] - 0s 0us/step\n"
          ],
          "name": "stdout"
        }
      ]
    },
    {
      "cell_type": "code",
      "metadata": {
        "id": "j1INmkXTh1Fr",
        "colab_type": "code",
        "outputId": "c18cad36-0ce7-48c6-b238-e91ddecd7073",
        "colab": {
          "base_uri": "https://localhost:8080/",
          "height": 35
        }
      },
      "source": [
        "train_digits.shape,train_labels.shape"
      ],
      "execution_count": 0,
      "outputs": [
        {
          "output_type": "execute_result",
          "data": {
            "text/plain": [
              "((60000, 28, 28), (60000,))"
            ]
          },
          "metadata": {
            "tags": []
          },
          "execution_count": 3
        }
      ]
    },
    {
      "cell_type": "code",
      "metadata": {
        "id": "lMPnQXqSkGwY",
        "colab_type": "code",
        "colab": {}
      },
      "source": [
        "\n",
        "train_digits = train_digits.astype('float32')\n",
        "test_digits = test_digits.astype('float32')\n",
        "train_digits /= 255\n",
        "test_digits /= 255\n"
      ],
      "execution_count": 0,
      "outputs": []
    },
    {
      "cell_type": "code",
      "metadata": {
        "id": "ke0RaVjkklgx",
        "colab_type": "code",
        "colab": {}
      },
      "source": [
        "num_classes=10"
      ],
      "execution_count": 0,
      "outputs": []
    },
    {
      "cell_type": "code",
      "metadata": {
        "id": "NkAF_Y5KkPC5",
        "colab_type": "code",
        "colab": {}
      },
      "source": [
        "\n",
        "train_labels = keras.utils.to_categorical(train_labels)\n",
        "test_labels = keras.utils.to_categorical(test_labels)\n"
      ],
      "execution_count": 0,
      "outputs": []
    },
    {
      "cell_type": "code",
      "metadata": {
        "id": "_Vlh7NAUpUJ0",
        "colab_type": "code",
        "outputId": "0457b7c8-d1b3-4d4f-b7d8-26b991e20267",
        "colab": {
          "base_uri": "https://localhost:8080/",
          "height": 35
        }
      },
      "source": [
        "train_digits.shape,train_labels.shape"
      ],
      "execution_count": 0,
      "outputs": [
        {
          "output_type": "execute_result",
          "data": {
            "text/plain": [
              "((60000, 28, 28), (60000, 10))"
            ]
          },
          "metadata": {
            "tags": []
          },
          "execution_count": 7
        }
      ]
    },
    {
      "cell_type": "code",
      "metadata": {
        "id": "MUreZByqjL5V",
        "colab_type": "code",
        "colab": {}
      },
      "source": [
        "train_digits=train_digits.reshape(-1,28,28,1)\n",
        "test_digits=test_digits.reshape(-1,28,28,1)"
      ],
      "execution_count": 0,
      "outputs": []
    },
    {
      "cell_type": "code",
      "metadata": {
        "id": "bGYyFeHch_TA",
        "colab_type": "code",
        "outputId": "4dbb9eb1-a759-46bf-f520-c7d241daeb8d",
        "colab": {
          "base_uri": "https://localhost:8080/",
          "height": 257
        }
      },
      "source": [
        "model = Sequential()\n",
        "model.add(Conv2D(filters=32, kernel_size=(3, 3), activation='relu', strides=1, padding='same', data_format='channels_last',\n",
        "                 input_shape=(28,28,1)))\n",
        "model.add(BatchNormalization())\n",
        "model.add(Conv2D(filters=32, kernel_size=(3, 3), activation='relu', strides=1, padding='same', data_format='channels_last'))\n",
        "model.add(BatchNormalization())\n",
        "model.add(MaxPooling2D(pool_size=(2, 2), strides=2, padding='valid' ))\n",
        "model.add(Dropout(0.25))\n",
        "\n",
        "model.add(Conv2D(filters=64, kernel_size=(3, 3), activation='relu', strides=1, padding='same', data_format='channels_last'))\n",
        "model.add(BatchNormalization())\n",
        "model.add(Conv2D(filters=64, kernel_size=(3, 3), strides=1, padding='same', activation='relu', data_format='channels_last'))\n",
        "model.add(BatchNormalization())\n",
        "model.add(MaxPooling2D(pool_size=(2, 2), padding='valid', strides=2))\n",
        "model.add(Dropout(0.25))\n",
        "\n",
        "model.add(Flatten())\n",
        "model.add(Dense(512, activation='relu'))\n",
        "model.add(BatchNormalization())\n",
        "model.add(Dropout(0.25))\n",
        "model.add(Dense(1024, activation='relu'))\n",
        "model.add(BatchNormalization())\n",
        "model.add(Dropout(0.5))\n",
        "model.add(Dense(10, activation='softmax'))"
      ],
      "execution_count": 0,
      "outputs": [
        {
          "output_type": "stream",
          "text": [
            "WARNING:tensorflow:From /usr/local/lib/python3.6/dist-packages/tensorflow/python/framework/op_def_library.py:263: colocate_with (from tensorflow.python.framework.ops) is deprecated and will be removed in a future version.\n",
            "Instructions for updating:\n",
            "Colocations handled automatically by placer.\n"
          ],
          "name": "stdout"
        },
        {
          "output_type": "stream",
          "text": [
            "W0605 03:10:10.373786 139942493149056 deprecation.py:323] From /usr/local/lib/python3.6/dist-packages/tensorflow/python/framework/op_def_library.py:263: colocate_with (from tensorflow.python.framework.ops) is deprecated and will be removed in a future version.\n",
            "Instructions for updating:\n",
            "Colocations handled automatically by placer.\n"
          ],
          "name": "stderr"
        },
        {
          "output_type": "stream",
          "text": [
            "WARNING:tensorflow:From /usr/local/lib/python3.6/dist-packages/keras/backend/tensorflow_backend.py:3445: calling dropout (from tensorflow.python.ops.nn_ops) with keep_prob is deprecated and will be removed in a future version.\n",
            "Instructions for updating:\n",
            "Please use `rate` instead of `keep_prob`. Rate should be set to `rate = 1 - keep_prob`.\n"
          ],
          "name": "stdout"
        },
        {
          "output_type": "stream",
          "text": [
            "W0605 03:10:12.304498 139942493149056 deprecation.py:506] From /usr/local/lib/python3.6/dist-packages/keras/backend/tensorflow_backend.py:3445: calling dropout (from tensorflow.python.ops.nn_ops) with keep_prob is deprecated and will be removed in a future version.\n",
            "Instructions for updating:\n",
            "Please use `rate` instead of `keep_prob`. Rate should be set to `rate = 1 - keep_prob`.\n"
          ],
          "name": "stderr"
        }
      ]
    },
    {
      "cell_type": "code",
      "metadata": {
        "id": "oZbokHrBiVYF",
        "colab_type": "code",
        "outputId": "6237e5e2-7192-4c51-85d9-8fcba0fa0693",
        "colab": {
          "base_uri": "https://localhost:8080/",
          "height": 880
        }
      },
      "source": [
        "model.summary()"
      ],
      "execution_count": 0,
      "outputs": [
        {
          "output_type": "stream",
          "text": [
            "_________________________________________________________________\n",
            "Layer (type)                 Output Shape              Param #   \n",
            "=================================================================\n",
            "conv2d_1 (Conv2D)            (None, 28, 28, 32)        320       \n",
            "_________________________________________________________________\n",
            "batch_normalization_1 (Batch (None, 28, 28, 32)        128       \n",
            "_________________________________________________________________\n",
            "conv2d_2 (Conv2D)            (None, 28, 28, 32)        9248      \n",
            "_________________________________________________________________\n",
            "batch_normalization_2 (Batch (None, 28, 28, 32)        128       \n",
            "_________________________________________________________________\n",
            "max_pooling2d_1 (MaxPooling2 (None, 14, 14, 32)        0         \n",
            "_________________________________________________________________\n",
            "dropout_1 (Dropout)          (None, 14, 14, 32)        0         \n",
            "_________________________________________________________________\n",
            "conv2d_3 (Conv2D)            (None, 14, 14, 64)        18496     \n",
            "_________________________________________________________________\n",
            "batch_normalization_3 (Batch (None, 14, 14, 64)        256       \n",
            "_________________________________________________________________\n",
            "conv2d_4 (Conv2D)            (None, 14, 14, 64)        36928     \n",
            "_________________________________________________________________\n",
            "batch_normalization_4 (Batch (None, 14, 14, 64)        256       \n",
            "_________________________________________________________________\n",
            "max_pooling2d_2 (MaxPooling2 (None, 7, 7, 64)          0         \n",
            "_________________________________________________________________\n",
            "dropout_2 (Dropout)          (None, 7, 7, 64)          0         \n",
            "_________________________________________________________________\n",
            "flatten_1 (Flatten)          (None, 3136)              0         \n",
            "_________________________________________________________________\n",
            "dense_1 (Dense)              (None, 512)               1606144   \n",
            "_________________________________________________________________\n",
            "batch_normalization_5 (Batch (None, 512)               2048      \n",
            "_________________________________________________________________\n",
            "dropout_3 (Dropout)          (None, 512)               0         \n",
            "_________________________________________________________________\n",
            "dense_2 (Dense)              (None, 1024)              525312    \n",
            "_________________________________________________________________\n",
            "batch_normalization_6 (Batch (None, 1024)              4096      \n",
            "_________________________________________________________________\n",
            "dropout_4 (Dropout)          (None, 1024)              0         \n",
            "_________________________________________________________________\n",
            "dense_3 (Dense)              (None, 10)                10250     \n",
            "=================================================================\n",
            "Total params: 2,213,610\n",
            "Trainable params: 2,210,154\n",
            "Non-trainable params: 3,456\n",
            "_________________________________________________________________\n"
          ],
          "name": "stdout"
        }
      ]
    },
    {
      "cell_type": "code",
      "metadata": {
        "id": "s9xlnNpMRDoz",
        "colab_type": "code",
        "colab": {}
      },
      "source": [
        "\n",
        "from keras.optimizers import adam\n",
        "optimizer = adam(lr=0.001, beta_1=0.9, beta_2=0.999 )\n",
        "model.compile(optimizer=optimizer, loss='categorical_crossentropy', metrics=['accuracy'])"
      ],
      "execution_count": 0,
      "outputs": []
    },
    {
      "cell_type": "code",
      "metadata": {
        "id": "thijshkXmf7a",
        "colab_type": "code",
        "colab": {}
      },
      "source": [
        ""
      ],
      "execution_count": 0,
      "outputs": []
    },
    {
      "cell_type": "code",
      "metadata": {
        "id": "61ioTg-_i6uO",
        "colab_type": "code",
        "outputId": "b30014eb-ebfd-4988-c4cc-b78538820210",
        "colab": {
          "base_uri": "https://localhost:8080/",
          "height": 2002
        }
      },
      "source": [
        "results = model.fit(train_digits, train_labels, \n",
        "                    epochs=50, batch_size=64,validation_data=(test_digits,test_labels))"
      ],
      "execution_count": 0,
      "outputs": [
        {
          "output_type": "stream",
          "text": [
            "WARNING:tensorflow:From /usr/local/lib/python3.6/dist-packages/tensorflow/python/ops/math_ops.py:3066: to_int32 (from tensorflow.python.ops.math_ops) is deprecated and will be removed in a future version.\n",
            "Instructions for updating:\n",
            "Use tf.cast instead.\n"
          ],
          "name": "stdout"
        },
        {
          "output_type": "stream",
          "text": [
            "W0605 03:11:52.764282 139942493149056 deprecation.py:323] From /usr/local/lib/python3.6/dist-packages/tensorflow/python/ops/math_ops.py:3066: to_int32 (from tensorflow.python.ops.math_ops) is deprecated and will be removed in a future version.\n",
            "Instructions for updating:\n",
            "Use tf.cast instead.\n"
          ],
          "name": "stderr"
        },
        {
          "output_type": "stream",
          "text": [
            "Train on 60000 samples, validate on 10000 samples\n",
            "Epoch 1/50\n",
            "60000/60000 [==============================] - 19s 312us/step - loss: 0.1815 - acc: 0.9490 - val_loss: 0.0444 - val_acc: 0.9876\n",
            "Epoch 2/50\n",
            "60000/60000 [==============================] - 14s 227us/step - loss: 0.0742 - acc: 0.9785 - val_loss: 0.0332 - val_acc: 0.9893\n",
            "Epoch 3/50\n",
            "60000/60000 [==============================] - 14s 227us/step - loss: 0.0564 - acc: 0.9833 - val_loss: 0.0397 - val_acc: 0.9876\n",
            "Epoch 4/50\n",
            "60000/60000 [==============================] - 14s 227us/step - loss: 0.0503 - acc: 0.9854 - val_loss: 0.0269 - val_acc: 0.9917\n",
            "Epoch 5/50\n",
            "60000/60000 [==============================] - 14s 227us/step - loss: 0.0444 - acc: 0.9868 - val_loss: 0.0275 - val_acc: 0.9913\n",
            "Epoch 6/50\n",
            "60000/60000 [==============================] - 14s 225us/step - loss: 0.0454 - acc: 0.9864 - val_loss: 0.0381 - val_acc: 0.9899\n",
            "Epoch 7/50\n",
            "60000/60000 [==============================] - 13s 225us/step - loss: 0.0385 - acc: 0.9889 - val_loss: 0.0281 - val_acc: 0.9917\n",
            "Epoch 8/50\n",
            "60000/60000 [==============================] - 14s 225us/step - loss: 0.0343 - acc: 0.9901 - val_loss: 0.0234 - val_acc: 0.9932\n",
            "Epoch 9/50\n",
            "60000/60000 [==============================] - 14s 225us/step - loss: 0.0292 - acc: 0.9915 - val_loss: 0.0237 - val_acc: 0.9934\n",
            "Epoch 10/50\n",
            "60000/60000 [==============================] - 14s 227us/step - loss: 0.0285 - acc: 0.9912 - val_loss: 0.0301 - val_acc: 0.9918\n",
            "Epoch 11/50\n",
            "60000/60000 [==============================] - 14s 226us/step - loss: 0.0284 - acc: 0.9921 - val_loss: 0.0268 - val_acc: 0.9929\n",
            "Epoch 12/50\n",
            "60000/60000 [==============================] - 13s 225us/step - loss: 0.0240 - acc: 0.9927 - val_loss: 0.0209 - val_acc: 0.9938\n",
            "Epoch 13/50\n",
            "60000/60000 [==============================] - 13s 224us/step - loss: 0.0206 - acc: 0.9937 - val_loss: 0.0234 - val_acc: 0.9937\n",
            "Epoch 14/50\n",
            "60000/60000 [==============================] - 13s 225us/step - loss: 0.0219 - acc: 0.9934 - val_loss: 0.0241 - val_acc: 0.9946\n",
            "Epoch 15/50\n",
            "60000/60000 [==============================] - 13s 224us/step - loss: 0.0196 - acc: 0.9942 - val_loss: 0.0278 - val_acc: 0.9925\n",
            "Epoch 16/50\n",
            "60000/60000 [==============================] - 13s 224us/step - loss: 0.0198 - acc: 0.9941 - val_loss: 0.0221 - val_acc: 0.9944\n",
            "Epoch 17/50\n",
            "60000/60000 [==============================] - 14s 226us/step - loss: 0.0163 - acc: 0.9954 - val_loss: 0.0257 - val_acc: 0.9930\n",
            "Epoch 18/50\n",
            "60000/60000 [==============================] - 14s 226us/step - loss: 0.0146 - acc: 0.9956 - val_loss: 0.0200 - val_acc: 0.9950\n",
            "Epoch 19/50\n",
            "60000/60000 [==============================] - 14s 228us/step - loss: 0.0157 - acc: 0.9955 - val_loss: 0.0260 - val_acc: 0.9937\n",
            "Epoch 20/50\n",
            "60000/60000 [==============================] - 14s 229us/step - loss: 0.0147 - acc: 0.9957 - val_loss: 0.0291 - val_acc: 0.9926\n",
            "Epoch 21/50\n",
            "60000/60000 [==============================] - 14s 228us/step - loss: 0.0151 - acc: 0.9955 - val_loss: 0.0247 - val_acc: 0.9936\n",
            "Epoch 22/50\n",
            "60000/60000 [==============================] - 14s 232us/step - loss: 0.0128 - acc: 0.9961 - val_loss: 0.0268 - val_acc: 0.9936\n",
            "Epoch 23/50\n",
            "60000/60000 [==============================] - 14s 229us/step - loss: 0.0130 - acc: 0.9964 - val_loss: 0.0178 - val_acc: 0.9958\n",
            "Epoch 24/50\n",
            "60000/60000 [==============================] - 14s 229us/step - loss: 0.0122 - acc: 0.9965 - val_loss: 0.0274 - val_acc: 0.9946\n",
            "Epoch 25/50\n",
            "60000/60000 [==============================] - 14s 228us/step - loss: 0.0113 - acc: 0.9966 - val_loss: 0.0263 - val_acc: 0.9938\n",
            "Epoch 26/50\n",
            "60000/60000 [==============================] - 14s 229us/step - loss: 0.0100 - acc: 0.9970 - val_loss: 0.0276 - val_acc: 0.9936\n",
            "Epoch 27/50\n",
            "60000/60000 [==============================] - 14s 230us/step - loss: 0.0124 - acc: 0.9967 - val_loss: 0.0211 - val_acc: 0.9954\n",
            "Epoch 28/50\n",
            "60000/60000 [==============================] - 14s 233us/step - loss: 0.0100 - acc: 0.9968 - val_loss: 0.0237 - val_acc: 0.9942\n",
            "Epoch 29/50\n",
            "60000/60000 [==============================] - 14s 238us/step - loss: 0.0115 - acc: 0.9968 - val_loss: 0.0243 - val_acc: 0.9945\n",
            "Epoch 30/50\n",
            "60000/60000 [==============================] - 14s 239us/step - loss: 0.0094 - acc: 0.9971 - val_loss: 0.0262 - val_acc: 0.9944\n",
            "Epoch 31/50\n",
            "60000/60000 [==============================] - 14s 240us/step - loss: 0.0103 - acc: 0.9971 - val_loss: 0.0234 - val_acc: 0.9947\n",
            "Epoch 32/50\n",
            "60000/60000 [==============================] - 14s 240us/step - loss: 0.0093 - acc: 0.9974 - val_loss: 0.0296 - val_acc: 0.9938\n",
            "Epoch 33/50\n",
            "60000/60000 [==============================] - 14s 239us/step - loss: 0.0096 - acc: 0.9972 - val_loss: 0.0223 - val_acc: 0.9947\n",
            "Epoch 34/50\n",
            "60000/60000 [==============================] - 14s 241us/step - loss: 0.0083 - acc: 0.9976 - val_loss: 0.0228 - val_acc: 0.9958\n",
            "Epoch 35/50\n",
            "60000/60000 [==============================] - 14s 239us/step - loss: 0.0087 - acc: 0.9975 - val_loss: 0.0198 - val_acc: 0.9958\n",
            "Epoch 36/50\n",
            "60000/60000 [==============================] - 14s 240us/step - loss: 0.0082 - acc: 0.9978 - val_loss: 0.0214 - val_acc: 0.9957\n",
            "Epoch 37/50\n",
            "60000/60000 [==============================] - 14s 239us/step - loss: 0.0066 - acc: 0.9981 - val_loss: 0.0245 - val_acc: 0.9949\n",
            "Epoch 38/50\n",
            "60000/60000 [==============================] - 14s 240us/step - loss: 0.0086 - acc: 0.9977 - val_loss: 0.0210 - val_acc: 0.9951\n",
            "Epoch 39/50\n",
            "60000/60000 [==============================] - 14s 241us/step - loss: 0.0065 - acc: 0.9982 - val_loss: 0.0243 - val_acc: 0.9950\n",
            "Epoch 40/50\n",
            "60000/60000 [==============================] - 14s 239us/step - loss: 0.0077 - acc: 0.9979 - val_loss: 0.0273 - val_acc: 0.9941\n",
            "Epoch 41/50\n",
            "60000/60000 [==============================] - 14s 240us/step - loss: 0.0071 - acc: 0.9980 - val_loss: 0.0242 - val_acc: 0.9950\n",
            "Epoch 42/50\n",
            "60000/60000 [==============================] - 14s 241us/step - loss: 0.0071 - acc: 0.9980 - val_loss: 0.0309 - val_acc: 0.9946\n",
            "Epoch 43/50\n",
            "60000/60000 [==============================] - 14s 240us/step - loss: 0.0067 - acc: 0.9983 - val_loss: 0.0250 - val_acc: 0.9952\n",
            "Epoch 44/50\n",
            "60000/60000 [==============================] - 15s 246us/step - loss: 0.0071 - acc: 0.9981 - val_loss: 0.0313 - val_acc: 0.9944\n",
            "Epoch 45/50\n",
            "60000/60000 [==============================] - 14s 241us/step - loss: 0.0056 - acc: 0.9982 - val_loss: 0.0268 - val_acc: 0.9951\n",
            "Epoch 46/50\n",
            "60000/60000 [==============================] - 14s 239us/step - loss: 0.0062 - acc: 0.9981 - val_loss: 0.0273 - val_acc: 0.9950\n",
            "Epoch 47/50\n",
            "60000/60000 [==============================] - 14s 239us/step - loss: 0.0072 - acc: 0.9980 - val_loss: 0.0273 - val_acc: 0.9952\n",
            "Epoch 48/50\n",
            "60000/60000 [==============================] - 14s 239us/step - loss: 0.0061 - acc: 0.9982 - val_loss: 0.0262 - val_acc: 0.9953\n",
            "Epoch 49/50\n",
            "60000/60000 [==============================] - 14s 240us/step - loss: 0.0061 - acc: 0.9981 - val_loss: 0.0249 - val_acc: 0.9952\n",
            "Epoch 50/50\n",
            "60000/60000 [==============================] - 14s 241us/step - loss: 0.0059 - acc: 0.9984 - val_loss: 0.0282 - val_acc: 0.9942\n"
          ],
          "name": "stdout"
        }
      ]
    },
    {
      "cell_type": "code",
      "metadata": {
        "id": "qSDHKySyjM79",
        "colab_type": "code",
        "outputId": "d098977a-4d75-4256-b100-5b98c163c0fb",
        "colab": {
          "base_uri": "https://localhost:8080/",
          "height": 269
        }
      },
      "source": [
        "first_image = test_digits[10]\n",
        "first_image = np.array(first_image, dtype='float')\n",
        "pixels = first_image.reshape((28, 28))\n",
        "plt.imshow(pixels, cmap='gray')\n",
        "plt.show()"
      ],
      "execution_count": 0,
      "outputs": [
        {
          "output_type": "display_data",
          "data": {
            "image/png": "[encoded data removed]",
            "text/plain": [
              "<Figure size 432x288 with 1 Axes>"
            ]
          },
          "metadata": {
            "tags": []
          }
        }
      ]
    },
    {
      "cell_type": "code",
      "metadata": {
        "id": "jd4cYq-vkQF7",
        "colab_type": "code",
        "colab": {}
      },
      "source": [
        ""
      ],
      "execution_count": 0,
      "outputs": []
    },
    {
      "cell_type": "code",
      "metadata": {
        "id": "8FLZCofak0fd",
        "colab_type": "code",
        "colab": {}
      },
      "source": [
        ""
      ],
      "execution_count": 0,
      "outputs": []
    }
  ]
}